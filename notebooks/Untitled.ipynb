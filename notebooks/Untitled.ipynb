{
 "cells": [
  {
   "cell_type": "code",
   "execution_count": 57,
   "metadata": {
    "collapsed": false
   },
   "outputs": [
    {
     "name": "stdout",
     "output_type": "stream",
     "text": [
      "step :  0 \n",
      " [array([[ 0.18563931,  0.87575711]]), array([[ 1.7184374,  1.2691349]]), array([[ 1.33070254,  0.32256578]]), array([[ 0.28884944,  0.08994069]]), array([[ 1.86562328,  0.20784752]])]\n",
      "step :  1 \n",
      " [array([[ 0.404262  ,  1.85156658]]), array([[ 2.69279425,  1.4941432 ]]), array([[ 2.27708404,  0.64561694]]), array([[ 0.32899362,  1.08913458]]), array([[ 2.4685574 ,  1.00563849]])]\n",
      "step :  2 \n",
      " [array([[ 0.62288468,  2.82737605]]), array([[ 3.66715109,  1.7191515 ]]), array([[ 3.22346555,  0.9686681 ]]), array([[ 0.3691378 ,  2.08832848]]), array([[ 3.07149153,  1.80342947]])]\n",
      "step :  3 \n",
      " [array([[ 0.84150737,  3.80318552]]), array([[ 4.64150794,  1.9441598 ]]), array([[ 4.16984705,  1.29171926]]), array([[ 0.40928198,  3.08752238]]), array([[ 3.67442565,  2.60122044]])]\n",
      "step :  4 \n",
      " [array([[ 1.06013006,  4.77899499]]), array([[ 5.61586479,  2.1691681 ]]), array([[ 5.11622855,  1.61477041]]), array([[ 0.44942616,  4.08671628]]), array([[ 4.27735978,  3.39901142]])]\n",
      "step :  5 \n",
      " [array([[ 1.27875275,  5.75480446]]), array([[ 6.59022163,  2.39417639]]), array([[ 6.06261006,  1.93782157]]), array([[ 0.48957034,  5.08591017]]), array([[ 4.8802939 ,  4.19680239]])]\n",
      "step :  6 \n",
      " [array([[ 1.49737544,  6.73061393]]), array([[ 7.56457848,  2.61918469]]), array([[ 7.00899156,  2.26087273]]), array([[ 0.52971451,  6.08510407]]), array([[ 5.48322803,  4.99459337]])]\n",
      "step :  7 \n",
      " [array([[ 1.71599812,  7.7064234 ]]), array([[ 8.53893533,  2.84419299]]), array([[ 7.95537306,  2.58392389]]), array([[ 0.56985869,  7.08429797]]), array([[ 6.08616215,  5.79238434]])]\n",
      "step :  8 \n",
      " [array([[ 1.93462081,  8.68223287]]), array([[ 9.51329218,  3.06920129]]), array([[ 8.90175457,  2.90697504]]), array([[ 0.61000287,  8.08349187]]), array([[ 6.68909628,  6.59017532]])]\n",
      "step :  9 \n",
      " [array([[ 2.1532435 ,  9.65804233]]), array([[ 10.48764902,   3.29420959]]), array([[ 9.84813607,  3.2300262 ]]), array([[ 0.65014705,  9.08268576]]), array([[ 7.2920304 ,  7.38796629]])]\n"
     ]
    },
    {
     "data": {
      "image/png": "[encoded data removed]",
      "text/plain": [
       "<matplotlib.figure.Figure at 0x10da4ce80>"
      ]
     },
     "metadata": {},
     "output_type": "display_data"
    },
    {
     "data": {
      "image/png": "[encoded data removed]",
      "text/plain": [
       "<matplotlib.figure.Figure at 0x10d8e7400>"
      ]
     },
     "metadata": {},
     "output_type": "display_data"
    },
    {
     "data": {
      "image/png": "[encoded data removed]",
      "text/plain": [
       "<matplotlib.figure.Figure at 0x10d857cf8>"
      ]
     },
     "metadata": {},
     "output_type": "display_data"
    },
    {
     "data": {
      "image/png": "[encoded data removed]",
      "text/plain": [
       "<matplotlib.figure.Figure at 0x10d857ba8>"
      ]
     },
     "metadata": {},
     "output_type": "display_data"
    }
   ],
   "source": [
    "import numpy as np\n",
    "import time\n",
    "\n",
    "class Agent: \n",
    "    def __init__(self, pos, velo):\n",
    "        self.pos = pos\n",
    "        self.velo = velo\n",
    "        \n",
    "agents = []\n",
    "\n",
    "w = 0.5\n",
    "        \n",
    "def initialize():\n",
    "    for i in range(5):\n",
    "        agents.append(Agent(2*np.random.random((1,2)),2*np.random.random((1,2))))\n",
    "    \n",
    "\n",
    "    \n",
    "def find_nearest_neighbor(aj): \n",
    "    distances = [np.linalg.norm(aj.velo - ai.velo) for ai in agents_tmp]\n",
    "    distances[distances.index(0.0)] = max(distances)\n",
    "    return(agents[distances.index(min(distances))])\n",
    "    \n",
    "initialize()\n",
    "simulation_steps = 10\n",
    "plotting = DynamicUpdate()\n",
    "plotting.on_launch()\n",
    "\n",
    "for i in range(simulation_steps):\n",
    "    positions = [agent.pos for agent in agents]\n",
    "    x = [pos[0][0] for pos in positions]\n",
    "    y = [pos[0][1] for pos in positions]\n",
    "    plotting.on_running(x, y)\n",
    "    animation.set_ydata(y)\n",
    "    animation.set_xdata(x)\n",
    "    fig.canvas.draw()\n",
    "\n",
    "\n",
    "    agents_tmp = agents.copy()\n",
    "    print(\"step : \", i, \"\\n\", [agent.pos for agent in agents])\n",
    "    for aj in agents:\n",
    "        ai = find_nearest_neighbor(aj)\n",
    "        aj.velo += w*aj.velo\n",
    "        aj.velo = (aj.velo / np.linalg.norm(aj.velo))\n",
    "        aj.pos += aj.velo\n",
    "plt.show()"
   ]
  },
  {
   "cell_type": "code",
   "execution_count": 55,
   "metadata": {
    "collapsed": false
   },
   "outputs": [],
   "source": [
    "class DynamicUpdate():\n",
    "    #Suppose we know the x range\n",
    "    min_x = 0\n",
    "    max_x = 10\n",
    "\n",
    "    def on_launch(self):\n",
    "        #Set up plot\n",
    "        self.figure, self.ax = plt.subplots()\n",
    "        self.lines, = self.ax.plot([],[], 'o')\n",
    "        #Autoscale on unknown axis and known lims on the other\n",
    "        self.ax.set_autoscaley_on(True)\n",
    "        self.ax.set_xlim(self.min_x, self.max_x)\n",
    "        #Other stuff\n",
    "        self.ax.grid()\n",
    "\n",
    "    def on_running(self, xdata, ydata):\n",
    "        #Update data (with the new _and_ the old points)\n",
    "        self.lines.set_xdata(xdata)\n",
    "        self.lines.set_ydata(ydata)\n",
    "        #Need both of these in order to rescale\n",
    "        self.ax.relim()\n",
    "        self.ax.autoscale_view()\n",
    "        #We need to draw *and* flush\n",
    "        self.figure.canvas.draw()\n",
    "        #self.figure.canvas.flush_events()\n",
    "        time.sleep(1)\n"
   ]
  },
  {
   "cell_type": "code",
   "execution_count": 64,
   "metadata": {
    "collapsed": false
   },
   "outputs": [
    {
     "name": "stdout",
     "output_type": "stream",
     "text": [
      "<__main__.Agent object at 0x10ddecef0>\n",
      "1.99394324894\n",
      "1.18935852435\n"
     ]
    },
    {
     "data": {
      "image/png": "[encoded data removed]",
      "text/plain": [
       "<matplotlib.figure.Figure at 0x10ddecbe0>"
      ]
     },
     "metadata": {},
     "output_type": "display_data"
    }
   ],
   "source": [
    "import numpy as np\n",
    "import matplotlib.pyplot as plt\n",
    "from matplotlib.animation import FuncAnimation\n",
    "\n",
    "class Agent:\n",
    "    def __init__(self, pos, velo):\n",
    "        self.pos = pos\n",
    "        self.velo_temp = velo\n",
    "        self.velo = velo\n",
    "\n",
    "x_list = []\n",
    "y_list =[]\n",
    "agents = []\n",
    "w = 0.5\n",
    "N = 5\n",
    "\n",
    "def initialize():\n",
    "\n",
    "    for i in range(N):\n",
    "        agents.append(Agent(2*np.random.random(2),2*np.random.random(2)))\n",
    "\n",
    "def find_nearest_neighbor(aj):\n",
    "    distances = [np.linalg.norm(aj.velo - ai.velo) for ai in agents]\n",
    "    distances[distances.index(0.0)] = max(distances)\n",
    "    return(agents[distances.index(min(distances))])\n",
    "\n",
    "def get_x_pos():\n",
    "    ret_list = []\n",
    "    for aj in agents:\n",
    "        ret_list.append(aj.pos[0])\n",
    "    return ret_list\n",
    "\n",
    "def get_y_pos():\n",
    "    ret_list = []\n",
    "    for aj in agents:\n",
    "        ret_list.append(aj.pos[1])\n",
    "    return ret_list\n",
    "\n",
    "initialize()\n",
    "print(find_nearest_neighbor(agents[0]))\n",
    "\n",
    "test_x = [[1,2,3],[2,3,4],[3,4,5]]\n",
    "test_y = [[1,2,3],[2,3,4],[3,4,5]]\n",
    "\n",
    "fig = plt.figure(figsize=(10,10))\n",
    "ax = fig.add_subplot(111)\n",
    "ax.set_xlim([0, 5])\n",
    "ax.set_ylim([0, 5])\n",
    "points = ax.scatter(test_x[0], test_y[0], c='red')\n",
    "\n",
    "def animate(i):\n",
    "    ax.clf()\n",
    "    points = ax.scatter(test_x[i], test_y[i], c='red')\n",
    "    \n",
    "    return points\n",
    "    # use i-th elements from data\n",
    "\n",
    "print(agents[0].pos[0])\n",
    "print(agents[0].pos[1])\n",
    "\n",
    "for i in range(20):\n",
    "    for aj in agents:\n",
    "        ai = find_nearest_neighbor(aj)\n",
    "        aj.velo += w*aj.velo\n",
    "        aj.velo = (aj.velo / np.linalg.norm(aj.velo))\n",
    "        aj.pos += aj.velo\n",
    "\n",
    "    x_list.append(get_x_pos())\n",
    "    y_list.append(get_y_pos())\n",
    "\n",
    "#ani = FuncAnimation(fig, animate, frames=20, interval=200)\n",
    "\n",
    "def animate_test(i):\n",
    "    ax.scatter(test_x[i],test_y[i])\n",
    "\n",
    "ani2 = FuncAnimation(fig, animate_test, frames=3, interval=1000)\n",
    "\n",
    "plt.show()"
   ]
  },
  {
   "cell_type": "code",
   "execution_count": null,
   "metadata": {
    "collapsed": true
   },
   "outputs": [],
   "source": []
  }
 ],
 "metadata": {
  "anaconda-cloud": {},
  "kernelspec": {
   "display_name": "Python [default]",
   "language": "python",
   "name": "python3"
  },
  "language_info": {
   "codemirror_mode": {
    "name": "ipython",
    "version": 3
   },
   "file_extension": ".py",
   "mimetype": "text/x-python",
   "name": "python",
   "nbconvert_exporter": "python",
   "pygments_lexer": "ipython3",
   "version": "3.5.2"
  }
 },
 "nbformat": 4,
 "nbformat_minor": 1
}

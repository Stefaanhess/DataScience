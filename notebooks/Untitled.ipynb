{
 "cells": [
  {
   "cell_type": "code",
   "execution_count": 26,
   "metadata": {
    "collapsed": false
   },
   "outputs": [
    {
     "name": "stdout",
     "output_type": "stream",
     "text": [
      "step :  0 \n",
      " [array([[ 1.00660296,  0.85790137]]), array([[ 1.16392054,  0.40781742]]), array([[ 1.52270127,  0.41450711]]), array([[ 1.01648599,  1.17881042]]), array([[ 0.23881479,  1.39085992]])]\n",
      "step :  1 \n",
      " [array([[ 1.27682366,  1.82069977]]), array([[ 1.47689457,  1.3575791 ]]), array([[ 1.79192879,  1.37758371]]), array([[ 1.97545966,  1.46230555]]), array([[ 1.15964968,  1.78081261]])]\n",
      "step :  2 \n",
      " [array([[ 1.54704436,  2.78349818]]), array([[ 1.78986861,  2.30734078]]), array([[ 2.06115631,  2.34066031]]), array([[ 2.93443334,  1.74580068]]), array([[ 2.08048457,  2.17076531]])]\n",
      "step :  3 \n",
      " [array([[ 1.81726506,  3.74629659]]), array([[ 2.10284264,  3.25710247]]), array([[ 2.33038384,  3.30373692]]), array([[ 3.89340701,  2.02929581]]), array([[ 3.00131946,  2.560718  ]])]\n",
      "step :  4 \n",
      " [array([[ 2.08748575,  4.709095  ]]), array([[ 2.41581667,  4.20686415]]), array([[ 2.59961136,  4.26681352]]), array([[ 4.85238069,  2.31279095]]), array([[ 3.92215435,  2.9506707 ]])]\n",
      "step :  5 \n",
      " [array([[ 2.35770645,  5.67189341]]), array([[ 2.7287907 ,  5.15662584]]), array([[ 2.86883888,  5.22989012]]), array([[ 5.81135436,  2.59628608]]), array([[ 4.84298924,  3.34062339]])]\n",
      "step :  6 \n",
      " [array([[ 2.62792715,  6.63469182]]), array([[ 3.04176473,  6.10638752]]), array([[ 3.13806641,  6.19296672]]), array([[ 6.77032804,  2.87978121]]), array([[ 5.76382413,  3.73057609]])]\n",
      "step :  7 \n",
      " [array([[ 2.89814785,  7.59749022]]), array([[ 3.35473876,  7.0561492 ]]), array([[ 3.40729393,  7.15604332]]), array([[ 7.72930171,  3.16327634]]), array([[ 6.68465902,  4.12052878]])]\n",
      "step :  8 \n",
      " [array([[ 3.16836854,  8.56028863]]), array([[ 3.66771279,  8.00591089]]), array([[ 3.67652146,  8.11911992]]), array([[ 8.68827539,  3.44677148]]), array([[ 7.60549391,  4.51048148]])]\n",
      "step :  9 \n",
      " [array([[ 3.43858924,  9.52308704]]), array([[ 3.98068682,  8.95567257]]), array([[ 3.94574898,  9.08219653]]), array([[ 9.64724906,  3.73026661]]), array([[ 8.5263288 ,  4.90043417]])]\n"
     ]
    }
   ],
   "source": [
    "import numpy as np\n",
    "\n",
    "class Agent: \n",
    "    def __init__(self, pos, velo):\n",
    "        self.pos = pos\n",
    "        self.velo = velo\n",
    "        \n",
    "agents = []\n",
    "\n",
    "w = 0.5\n",
    "        \n",
    "def initialize():\n",
    "    for i in range(5):\n",
    "        agents.append(Agent(2*np.random.random((1,2)),2*np.random.random((1,2))))\n",
    "    \n",
    "\n",
    "    \n",
    "def find_nearest_neighbor(aj): \n",
    "    distances = [np.linalg.norm(aj.velo - ai.velo) for ai in agents_tmp]\n",
    "    distances[distances.index(0.0)] = max(distances)\n",
    "    return(agents[distances.index(min(distances))])\n",
    "    \n",
    "initialize()\n",
    "simulation_steps = 10\n",
    "for i in range(simulation_steps):\n",
    "    agents_tmp = agents.copy()\n",
    "    print(\"step : \", i, \"\\n\", [agent.pos for agent in agents])\n",
    "    for aj in agents:\n",
    "        ai = find_nearest_neighbor(aj)\n",
    "        aj.velo += w*aj.velo\n",
    "        aj.velo = (aj.velo / np.linalg.norm(aj.velo))\n",
    "        aj.pos += aj.velo"
   ]
  },
  {
   "cell_type": "code",
   "execution_count": 43,
   "metadata": {
    "collapsed": false
   },
   "outputs": [
    {
     "data": {
      "image/png": "[encoded data removed]",
      "text/plain": [
       "<matplotlib.figure.Figure at 0x109e196a0>"
      ]
     },
     "metadata": {},
     "output_type": "display_data"
    }
   ],
   "source": [
    "from matplotlib import pyplot as plt\n",
    "def show(agents):\n",
    "    positions = [agent.pos for agent in agents]\n",
    "    x = [pos[0][0] for pos in positions]\n",
    "    y = [pos[0][1] for pos in positions]\n",
    "    plt.plot(x, y, 'ro')\n",
    "    plt.show()\n",
    "show(agents)"
   ]
  },
  {
   "cell_type": "code",
   "execution_count": 33,
   "metadata": {
    "collapsed": false
   },
   "outputs": [
    {
     "name": "stdout",
     "output_type": "stream",
     "text": [
      "\u001b7\u001b[0;30fx\u001b8"
     ]
    }
   ],
   "source": []
  }
 ],
 "metadata": {
  "anaconda-cloud": {},
  "kernelspec": {
   "display_name": "Python [default]",
   "language": "python",
   "name": "python3"
  },
  "language_info": {
   "codemirror_mode": {
    "name": "ipython",
    "version": 3
   },
   "file_extension": ".py",
   "mimetype": "text/x-python",
   "name": "python",
   "nbconvert_exporter": "python",
   "pygments_lexer": "ipython3",
   "version": "3.5.2"
  }
 },
 "nbformat": 4,
 "nbformat_minor": 1
}
